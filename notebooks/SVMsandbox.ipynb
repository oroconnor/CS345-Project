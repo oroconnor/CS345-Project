{
 "cells": [
  {
   "cell_type": "code",
   "execution_count": null,
   "metadata": {},
   "outputs": [],
   "source": [
    "from sklearn.svm import SVC\n",
    "\n",
    "# runs the util notebook so that those functions are available\n",
    "%run utils.ipynb"
   ]
  },
  {
   "cell_type": "markdown",
   "metadata": {},
   "source": [
    "* Split data into test train split\n",
    "* Do a baseline default settings SVM model with linear one against the rest\n",
    "* Iterating through runs of SVM with different hyperparameters to find the best hyperparameters, using GridSearch. \n",
    "* Baseline with linear SVM, and *then explore options for nonlinear SVM. \n",
    "* Select the best model and justify\n",
    "* Test accuracy of best model"
   ]
  }
 ],
 "metadata": {
  "language_info": {
   "name": "python"
  }
 },
 "nbformat": 4,
 "nbformat_minor": 2
}
