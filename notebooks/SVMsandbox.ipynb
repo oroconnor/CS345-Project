{
 "cells": [
  {
   "cell_type": "code",
   "execution_count": 1,
   "metadata": {},
   "outputs": [],
   "source": [
    "from sklearn.svm import SVC\n",
    "\n",
    "# runs the util notebook so that those functions are available\n",
    "%run utils.ipynb"
   ]
  },
  {
   "cell_type": "markdown",
   "metadata": {},
   "source": [
    "* Split data into test train split\n",
    "* Do a baseline default settings SVM model with linear one against the rest\n",
    "* Iterating through runs of SVM with different hyperparameters to find the best hyperparameters, using GridSearch. \n",
    "* Baseline with linear SVM, and *then explore options for nonlinear SVM. \n",
    "* Select the best model and justify\n",
    "* Test accuracy of best model"
   ]
  }
 ],
 "metadata": {
  "kernelspec": {
   "display_name": "base",
   "language": "python",
   "name": "python3"
  },
  "language_info": {
   "codemirror_mode": {
    "name": "ipython",
    "version": 3
   },
   "file_extension": ".py",
   "mimetype": "text/x-python",
   "name": "python",
   "nbconvert_exporter": "python",
   "pygments_lexer": "ipython3",
   "version": "3.8.17"
  }
 },
 "nbformat": 4,
 "nbformat_minor": 2
}
