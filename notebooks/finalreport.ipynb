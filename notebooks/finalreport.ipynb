{
 "cells": [
  {
   "cell_type": "markdown",
   "metadata": {},
   "source": [
    "# Predicting Dry-bean Variety Types Using Classification Algorithms\n",
    "\n",
    "### The Problem \n",
    "Dry beans are an important food crop that is grown around the world. [In 2016](https://en.wikipedia.org/wiki/Phaseolus_vulgaris), more than 27 million tonnes of dry beans were harvested globally. Our project tackles a classification problem relating to dry beans varieties grown in Turkey.  \n",
    "\n",
    "According to the authors of a [2020 study](https://www.sciencedirect.com/science/article/abs/pii/S0168169919311573?via%3Dihub), only a small percentage of the beans cultivated in Turkey come from certified seed that only contains one variaty of seed. Most of the bean cultivation has some level of diversity to it, and the beans need to be sorted after harvest to allow farmers to get the best prices for their products. Much like bringing a load of unsorted metal to a scrap yard, and mixed harvest of bean varieties gets devalued and discounted. Because the sorting process is tideous and labor intensive, effort is being made to explore ways that computers can assist in the bean sorting process.  \n",
    "\n",
    "For our project, we use a dataset that contains computer collected measurements of 7 different types of Turkish dry beans. Our goal is to attempt to successfully classify the dry bean variety of individual beans by using their measured physical characteristics as the predictive variables. \n",
    "\n",
    "### The Data\n",
    "[Our dataset](https://archive.ics.uci.edu/dataset/602/dry+bean+dataset) contains information from 13,000+ individual drybeans. The target variable is been variety, of which there are 7: Barbunya, Battal, Bombay, Calı, Dermason, Horoz, Tombul, Selanik and Seker. The dataset contains 16 feature columns, which are physical measurements of the beans obtained through computer vision measurement. Specifically the features available are:\n",
    "| Variable Name        | Type           | Description  |\n",
    "| ------------- |:-------------:| -----|\n",
    "| Area      | Integer | The area of a bean zone and the number of pixels within its boundaries |\n",
    "| Perimeter      | Continuous | Bean circumference is defined as the length of its border |\n",
    "| MajorAxisLength      | Continuous | The distance between the ends of the longest line that can be drawn from a bean |\n",
    "| MinorAxisLength      | Continuous | The longest line that can be drawn from the bean while standing perpendicular to the main axis |\n",
    "| AspectRatio      | Continuous | Defines the relationship between MajorAxisLength and MinorAxisLength |\n",
    "| Eccentricity      | Continuous | Eccentricity of the ellipse having the same moments as the region |\n",
    "| ConvexArea      | Integer | Number of pixels in the smallest convex polygon that can contain the area of a bean seed |\n",
    "| EquivDiameter      | Equivalent diameter: The diameter of a circle having the same area as a bean seed area |\n",
    "| Extent      | Continuous | The ratio of the pixels in the bounding box to the bean area |\n",
    "| Solidity      | Continuous | Also known as convexity. The ratio of the pixels in the convex shell to those found in beans. |\n",
    "| Roundness      | Continuous | Calculated with the following formula: (4piA)/(P^2) |\n",
    "| Compactness      | Continuous | Measures the roundness of an objec |\n",
    "| ShapeFactor1      | Continuous |  |\n",
    "| ShapeFactor2      | Continuous |  |\n",
    "| ShapeFactor3      | Continuous |  |\n",
    "| ShapeFactor4      | Continuous |  |\n",
    "\n",
    "\n",
    "### Our Approach\n",
    "\n"
   ]
  },
  {
   "cell_type": "code",
   "execution_count": null,
   "metadata": {},
   "outputs": [],
   "source": []
  },
  {
   "cell_type": "markdown",
   "metadata": {},
   "source": [
    "---\n",
    "## Exploratory Data Analysis"
   ]
  },
  {
   "cell_type": "markdown",
   "metadata": {},
   "source": [
    "---\n",
    "## Support Vector Machines "
   ]
  },
  {
   "cell_type": "markdown",
   "metadata": {},
   "source": [
    "---\n",
    "## Random Forests"
   ]
  },
  {
   "cell_type": "markdown",
   "metadata": {},
   "source": [
    "---\n",
    "## Conclusions"
   ]
  }
 ],
 "metadata": {
  "kernelspec": {
   "display_name": "base",
   "language": "python",
   "name": "python3"
  },
  "language_info": {
   "codemirror_mode": {
    "name": "ipython",
    "version": 3
   },
   "file_extension": ".py",
   "mimetype": "text/x-python",
   "name": "python",
   "nbconvert_exporter": "python",
   "pygments_lexer": "ipython3",
   "version": "3.8.17"
  }
 },
 "nbformat": 4,
 "nbformat_minor": 2
}
