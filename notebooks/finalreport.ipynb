{
 "cells": [
  {
   "cell_type": "markdown",
   "metadata": {},
   "source": [
    "# Predicting Dry-bean Variety Types Using Classification Algorithms\n",
    "\n",
    "### The Problem \n",
    "According to the authors of a [2020 study](https://www.sciencedirect.com/science/article/abs/pii/S0168169919311573?via%3Dihub), only a small percentage of the beans cultivated in Turkey come from certified seed that only contains one variaty of seed. Most of the bean cultivation has some level of diversity to it, and the beans need to be sorted after harvest to allow farmers to get the best prices for their products. Much like bringing a load of unsorted metal to a scrap yard, and mixed harvest of bean varieties gets devalued and discounted. Because the sorting process is tideous and labor intensive, effort is being made to explore ways that computers can assist in the bean sorting process. \n",
    "For our project, we use a dataset that contains computer collected measurements of 7 different types of Turkish dry beans. Our goal is to attempt to successfully classify the dry bean variety of individual beans by using their measured physical characteristics as the predictive variables. \n",
    "\n",
    "### The Data\n",
    "The dataset contains information from 13,000+ individual drybeans. \n",
    "\n",
    "### Our Approach\n",
    "\n"
   ]
  },
  {
   "cell_type": "code",
   "execution_count": null,
   "metadata": {},
   "outputs": [],
   "source": []
  },
  {
   "cell_type": "markdown",
   "metadata": {},
   "source": [
    "---\n",
    "## Exploratory Data Analysis"
   ]
  },
  {
   "cell_type": "markdown",
   "metadata": {},
   "source": [
    "---\n",
    "## Support Vector Machines "
   ]
  },
  {
   "cell_type": "markdown",
   "metadata": {},
   "source": [
    "---\n",
    "## Random Forests"
   ]
  },
  {
   "cell_type": "markdown",
   "metadata": {},
   "source": [
    "---\n",
    "## Conclusions"
   ]
  }
 ],
 "metadata": {
  "kernelspec": {
   "display_name": "base",
   "language": "python",
   "name": "python3"
  },
  "language_info": {
   "codemirror_mode": {
    "name": "ipython",
    "version": 3
   },
   "file_extension": ".py",
   "mimetype": "text/x-python",
   "name": "python",
   "nbconvert_exporter": "python",
   "pygments_lexer": "ipython3",
   "version": "3.8.17"
  }
 },
 "nbformat": 4,
 "nbformat_minor": 2
}
