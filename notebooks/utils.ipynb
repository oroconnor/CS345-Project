{
 "cells": [
  {
   "cell_type": "code",
   "execution_count": 7,
   "metadata": {},
   "outputs": [],
   "source": [
    "import numpy as np\n",
    "import pandas as pd\n",
    "from sklearn.preprocessing import StandardScaler\n",
    "from sklearn.model_selection import train_test_split\n",
    "\n",
    "def load_beans():\n",
    "    # using local path name now, but I will update once the csv gets added to the github via pull request\n",
    "    beans = pd.read_csv(\"https://raw.githubusercontent.com/oroconnor/CS345-Project/main/dry%2Bbean%2Bdataset/DryBeanDataset/Dry_Bean_Dataset.csv\", delimiter=',')\n",
    "    features = list(beans.columns[:-1]) \n",
    "    b = np.array(beans)\n",
    "    \n",
    "    X =  np.array(b[:,:-1])\n",
    "    y =  np.array(b[:,-1])\n",
    "    X = X.astype(float)\n",
    "    return X, y, features\n",
    "\n",
    "\n",
    "\n",
    "def load_standardized_beans():\n",
    "    X, y, features = load_beans()\n",
    "    scaler = StandardScaler()\n",
    "    X = scaler.fit_transform(X)\n",
    "\n",
    "    return X, y, features\n",
    "\n",
    "def split(X, y, valid = .2, test = .3 ):\n",
    "    # Split the data\n",
    "    X_train, X_test, y_train, y_test = train_test_split(X, y, test_size= (test + valid)) \n",
    "    X_test, X_valid, y_test, y_valid = train_test_split(X_test, y_test, test_size= (valid / (test + valid))) \n",
    "\n",
    "    return X_train, X_valid, X_test, y_train, y_valid, y_test"
   ]
  },
  {
   "cell_type": "code",
   "execution_count": null,
   "metadata": {},
   "outputs": [],
   "source": [
    "# keeping consistent methods for cross validation and evaluation of accuracy\n",
    "from sklearn.model_selection import StratifiedKFold, cross_validate, cross_val_score\n",
    "\n",
    "stratcv = StratifiedKFold(n_splits=5, shuffle=True)\n"
   ]
  },
  {
   "cell_type": "code",
   "execution_count": null,
   "metadata": {},
   "outputs": [],
   "source": [
    "def test_classifier(classifier, X, y):\n",
    "    print(\"Classifier type:\", type(classifier).__name__)\n",
    "    print(\"Classifier paramaters: \", classifier.get_params())\n",
    "\n",
    "    accuracy = cross_val_score(classifier, X, y, cv=stratcv, \n",
    "                            scoring='accuracy')\n",
    "    print(\"Classifier accuracy: \", np.mean(accuracy))"
   ]
  }
 ],
 "metadata": {
  "kernelspec": {
   "display_name": "base",
   "language": "python",
   "name": "python3"
  },
  "language_info": {
   "codemirror_mode": {
    "name": "ipython",
    "version": 3
   },
   "file_extension": ".py",
   "mimetype": "text/x-python",
   "name": "python",
   "nbconvert_exporter": "python",
   "pygments_lexer": "ipython3",
   "version": "3.8.17"
  }
 },
 "nbformat": 4,
 "nbformat_minor": 2
}
